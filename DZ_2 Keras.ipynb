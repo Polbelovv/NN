{
 "cells": [
  {
   "cell_type": "code",
   "execution_count": null,
   "id": "59a6e9a5",
   "metadata": {},
   "outputs": [],
   "source": [
    "import numpy as np\n",
    "import matplotlib.pyplot as plt\n",
    "from tensorflow.keras.datasets import mnist\n",
    "from tensorflow.keras.models import Sequential\n",
    "from tensorflow.keras.layers import Dense, Flatten, Conv2D, MaxPooling2D\n",
    "from tensorflow.keras.utils import to_categorical\n",
    "from PIL import Image\n",
    "\n",
    "# Загружаем и предобрабатываем данные\n",
    "(X_train, y_train), (X_test, y_test) = mnist.load_data()\n",
    "X_train, X_test = X_train / 255.0, X_test / 255.0\n",
    "\n",
    "X_train = np.expand_dims(X_train, axis=-1)\n",
    "X_test = np.expand_dims(X_test, axis=-1)\n",
    "\n",
    "y_train = to_categorical(y_train)\n",
    "y_test = to_categorical(y_test)\n",
    "\n",
    "# Создаем модель нейронной сети\n",
    "model = Sequential([\n",
    "    Conv2D(32, (3, 3), activation='relu', input_shape=(28, 28, 1)),\n",
    "    MaxPooling2D((2, 2)),\n",
    "    Flatten(),\n",
    "    Dense(128, activation='relu'),\n",
    "    Dense(10, activation='softmax')\n",
    "])\n",
    "\n",
    "# Компилируем модель\n",
    "model.compile(optimizer='adam', loss='categorical_crossentropy', metrics=['accuracy'])\n",
    "\n",
    "# Обучаем модель\n",
    "model.fit(X_train, y_train, epochs=5, batch_size=32, validation_data=(X_test, y_test))\n",
    "\n",
    "# Сохраняем модель\n",
    "model.save('mnist_model.h5')\n",
    "\n",
    "# Загружаем модель\n",
    "model = load_model('mnist_model.h5')\n",
    "\n",
    "# Загружаем и предобрабатываем новое изображение\n",
    "image_path = 'digit.jpg'\n",
    "image = Image.open(image_path).convert('L')\n",
    "image = image.resize((28, 28))\n",
    "image = np.array(image) / 255.0\n",
    "image = np.expand_dims(image, axis=0)\n",
    "image = np.expand_dims(image, axis=-1)\n",
    "\n",
    "# Делаем предсказание\n",
    "prediction = model.predict(image)\n",
    "predicted_digit = np.argmax(prediction)\n",
    "\n",
    "print(\"Предсказанная цифра:\", predicted_digit)\n",
    "\n",
    "plt.imshow(image.squeeze(), cmap=plt.cm.binary)\n",
    "plt.show()"
   ]
  }
 ],
 "metadata": {
  "kernelspec": {
   "display_name": "Python 3 (ipykernel)",
   "language": "python",
   "name": "python3"
  },
  "language_info": {
   "codemirror_mode": {
    "name": "ipython",
    "version": 3
   },
   "file_extension": ".py",
   "mimetype": "text/x-python",
   "name": "python",
   "nbconvert_exporter": "python",
   "pygments_lexer": "ipython3",
   "version": "3.7.0"
  }
 },
 "nbformat": 4,
 "nbformat_minor": 5
}
